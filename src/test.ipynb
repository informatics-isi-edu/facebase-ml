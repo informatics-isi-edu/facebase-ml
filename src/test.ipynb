{
 "cells": [
  {
   "cell_type": "code",
   "execution_count": 1,
   "metadata": {},
   "outputs": [
    {
     "name": "stdout",
     "output_type": "stream",
     "text": [
      "Intel MKL WARNING: Support of Intel(R) Streaming SIMD Extensions 4.2 (Intel(R) SSE4.2) enabled only processors has been deprecated. Intel oneAPI Math Kernel Library 2025.0 will require Intel(R) Advanced Vector Extensions (Intel(R) AVX) instructions.\n",
      "Intel MKL WARNING: Support of Intel(R) Streaming SIMD Extensions 4.2 (Intel(R) SSE4.2) enabled only processors has been deprecated. Intel oneAPI Math Kernel Library 2025.0 will require Intel(R) Advanced Vector Extensions (Intel(R) AVX) instructions.\n"
     ]
    }
   ],
   "source": [
    "from deriva.core import DerivaServer, ErmrestCatalog, HatracStore, AttrDict, get_credential\n",
    "from deriva.chisel import Model, Schema, Table, Column, Key, ForeignKey, builtin_types\n",
    "from deriva.core.ermrest_model import builtin_types, Table, Column, Key, ForeignKey\n",
    "import pandas as pd\n",
    "from ml_utils import EyeAI\n",
    "import json\n"
   ]
  },
  {
   "cell_type": "code",
   "execution_count": 2,
   "metadata": {},
   "outputs": [],
   "source": [
    "EA = EyeAI(hostname = 'dev.eye-ai.org', catalog_number = 'eye-ai')"
   ]
  },
  {
   "cell_type": "code",
   "execution_count": 4,
   "metadata": {},
   "outputs": [
    {
     "data": {
      "text/plain": [
       "{'host': 'dev.eye-ai.org',\n",
       " 'catalog_number': 'eye-ai',\n",
       " 'Dataset': '2-5K2C',\n",
       " 'bdb_url': 'minid:oLkKfQWmEfXw',\n",
       " 'Process': [{'Name': 'Test process1',\n",
       "   'Process_Tag': '2-5JZ0',\n",
       "   'Description': 'Test new workflow process',\n",
       "   'owner': 'sree369nidhi',\n",
       "   'repo': 'ISI_EYE_AI',\n",
       "   'file_path': 'Glaucoma%20Suspect%20or%20No%20Glaaucoma/Cleaned_Optic_Disc_Cropping_Algorithm_1_0_3_SVG.py'},\n",
       "  {'Name': 'Test process2',\n",
       "   'Process_Tag': '2-5JZ0',\n",
       "   'Description': 'Test new workflow process',\n",
       "   'owner': 'sree369nidhi',\n",
       "   'repo': 'ISI_EYE_AI',\n",
       "   'file_path': 'Glaucoma%20Suspect%20or%20No%20Glaaucoma/Cleaned_Optic_Disc_Cropping_Algorithm_1_0_3.py'}],\n",
       " 'Workflow': {'Name': 'Test workflow',\n",
       "  'Description': 'Test new workflow process',\n",
       "  'owner': 'sree369nidhi',\n",
       "  'repo': 'ISI_EYE_AI',\n",
       "  'file_path': 'Glaucoma%20Suspect%20or%20No%20Glaaucoma/Crop_Detector_1_0_0.py'},\n",
       " 'Execution': {'Name': 'Test execution',\n",
       "  'Description': 'Test new workflow process'},\n",
       " 'Annotation_Tag': {'Name': 'Test new library',\n",
       "  'Description': 'Test new workflow process',\n",
       "  'Synonyms': []},\n",
       " 'Diagnosis_Tag': {'Name': 'Test new library',\n",
       "  'Description': 'Test new workflow process',\n",
       "  'Synonyms': []}}"
      ]
     },
     "execution_count": 4,
     "metadata": {},
     "output_type": "execute_result"
    }
   ],
   "source": [
    "# Load Metadata from input json file\n",
    "with open(\"ExecutionAsset/2-5M16_Test_input.json\", 'r') as file:\n",
    "    metadata = json.load(file)\n",
    "metadata"
   ]
  },
  {
   "cell_type": "markdown",
   "metadata": {},
   "source": [
    "# Start an Execution\n",
    "create or use existing process, workflow according to metadata (and associations)  \n",
    "\n",
    "create Execution (and associations)"
   ]
  },
  {
   "cell_type": "code",
   "execution_count": 5,
   "metadata": {},
   "outputs": [
    {
     "data": {
      "text/plain": [
       "{'Execution': '2-5M3P', 'Workflow': '2-5M3G', 'Process': ['2-5M3C', '2-5M3E']}"
      ]
     },
     "execution_count": 5,
     "metadata": {},
     "output_type": "execute_result"
    }
   ],
   "source": [
    "metadata_records = EA.Execution_start(metadata)\n",
    "metadata_records\n"
   ]
  },
  {
   "cell_type": "markdown",
   "metadata": {},
   "source": [
    "# Load Asset\n",
    "Load asset files from the Asset table if necessary. Automaticlly linked to the current execution."
   ]
  },
  {
   "cell_type": "code",
   "execution_count": 6,
   "metadata": {},
   "outputs": [
    {
     "name": "stderr",
     "output_type": "stream",
     "text": [
      "2024-01-25 22:03:06,698 - INFO - File [download/Merged_Cropped_Porper_or_Not_Dataset_TLBR_95_VGG19_Val_Accuracy.hdf5] transfer successful. 76.75 MB transferred at 26.86 MB/second. Elapsed time: 0:00:02.857562.\n",
      "2024-01-25 22:03:06,698 - INFO - Verifying MD5 checksum for downloaded file [download/Merged_Cropped_Porper_or_Not_Dataset_TLBR_95_VGG19_Val_Accuracy.hdf5]\n"
     ]
    }
   ],
   "source": [
    "model = EA.download_Execution_Asset(Asset_RID = \"2-5M24\", Execution_RID = metadata_records[\"Execution\"], dest_dir = \"download/\")"
   ]
  },
  {
   "cell_type": "markdown",
   "metadata": {},
   "source": [
    "# Load dataset Run ML\n",
    "** ** *"
   ]
  },
  {
   "cell_type": "markdown",
   "metadata": {},
   "source": [
    "# Upload Asset\n",
    "Including the metadata and any other output files. The output filename regex:  \n",
    "\n",
    "(?i)^.*\\/ExecutionAsset\\/(?P<Execution_Asset_tag_rid>[A-Z0-9-]*)_(?P<filename>[A-Za-z0-9_]*)[.](?P<file_ext>[a-z0-9]*)$  \n",
    " /ExecutionAsset/2-5M16_{filename}.ext"
   ]
  },
  {
   "cell_type": "code",
   "execution_count": 7,
   "metadata": {},
   "outputs": [
    {
     "name": "stderr",
     "output_type": "stream",
     "text": [
      "\n",
      "2024-01-25 22:03:12,028 - INFO - Initializing uploader: GenericUploader v1.6.4 [Python 3.10.9, macOS-10.16-x86_64-i386-64bit]\n",
      "2024-01-25 22:03:12,031 - INFO - Checking for updated configuration...\n",
      "2024-01-25 22:03:12,445 - INFO - Configuration is up-to-date.\n",
      "2024-01-25 22:03:12,448 - INFO - Scanning files in directory [/Users/zhiweili/Desktop/eye_ai/Github/eye-ai-tools/src/ExecutionAsset]...\n",
      "2024-01-25 22:03:12,452 - INFO - Including file: [/Users/zhiweili/Desktop/eye_ai/Github/eye-ai-tools/src/ExecutionAsset/2-5M16_Test_input.json].\n",
      "2024-01-25 22:03:12,452 - INFO - Processing: [/Users/zhiweili/Desktop/eye_ai/Github/eye-ai-tools/src/ExecutionAsset/2-5M16_Test_input.json]\n",
      "2024-01-25 22:03:12,452 - INFO - Computing checksums for file: [/Users/zhiweili/Desktop/eye_ai/Github/eye-ai-tools/src/ExecutionAsset/2-5M16_Test_input.json]. Please wait...\n",
      "2024-01-25 22:03:12,454 - INFO - Uploading file: [/Users/zhiweili/Desktop/eye_ai/Github/eye-ai-tools/src/ExecutionAsset/2-5M16_Test_input.json] to host https://dev.eye-ai.org. Please wait...\n",
      "2024-01-25 22:03:13,133 - INFO - File upload processing completed: 1 files were uploaded successfully, 0 files failed to upload due to errors, 0 files were skipped because they did not satisfy the matching criteria of the configuration.\n",
      "\n",
      "\n"
     ]
    },
    {
     "name": "stdout",
     "output_type": "stream",
     "text": [
      "[{'Execution_Asset': '2-5M3W', 'Execution': '2-5M3P'}]\n"
     ]
    }
   ],
   "source": [
    "EA.upload_Execution_Asset(file_path=\"/Users/zhiweili/Desktop/eye_ai/Github/eye-ai-tools/src/ExecutionAsset\",\n",
    "                          outputf_path = \"output.json\", Execution_RID=metadata_records[\"Execution\"])"
   ]
  },
  {
   "cell_type": "markdown",
   "metadata": {},
   "source": [
    "# End the Execution\n",
    "1. Including the metadata and any other output files. The output filename regex:  \n",
    "\n",
    "(?i)^.*\\/ExecutionAsset\\/(?P<Execution_Asset_tag_rid>[A-Z0-9-]*)_(?P<filename>[A-Za-z0-9_]*)[.](?P<file_ext>[a-z0-9]*)$  \n",
    " /ExecutionAsset/2-5M16_{filename}.ext\n",
    "\n",
    "2. Log the duration."
   ]
  },
  {
   "cell_type": "code",
   "execution_count": 11,
   "metadata": {},
   "outputs": [
    {
     "name": "stderr",
     "output_type": "stream",
     "text": [
      "\n",
      "2024-01-25 22:06:58,236 - INFO - Initializing uploader: GenericUploader v1.6.4 [Python 3.10.9, macOS-10.16-x86_64-i386-64bit]\n",
      "2024-01-25 22:06:58,239 - INFO - Checking for updated configuration...\n",
      "2024-01-25 22:06:59,225 - INFO - Configuration is up-to-date.\n",
      "2024-01-25 22:06:59,229 - INFO - Scanning files in directory [/Users/zhiweili/Desktop/eye_ai/Github/eye-ai-tools/src/ExecutionAsset]...\n",
      "2024-01-25 22:06:59,233 - INFO - Including file: [/Users/zhiweili/Desktop/eye_ai/Github/eye-ai-tools/src/ExecutionAsset/2-5M16_Test_input.json].\n",
      "2024-01-25 22:06:59,233 - INFO - Processing: [/Users/zhiweili/Desktop/eye_ai/Github/eye-ai-tools/src/ExecutionAsset/2-5M16_Test_input.json]\n",
      "2024-01-25 22:06:59,233 - INFO - Computing checksums for file: [/Users/zhiweili/Desktop/eye_ai/Github/eye-ai-tools/src/ExecutionAsset/2-5M16_Test_input.json]. Please wait...\n",
      "2024-01-25 22:06:59,234 - INFO - Uploading file: [/Users/zhiweili/Desktop/eye_ai/Github/eye-ai-tools/src/ExecutionAsset/2-5M16_Test_input.json] to host https://dev.eye-ai.org. Please wait...\n",
      "2024-01-25 22:06:59,813 - INFO - File upload processing completed: 1 files were uploaded successfully, 0 files failed to upload due to errors, 0 files were skipped because they did not satisfy the matching criteria of the configuration.\n",
      "\n",
      "\n"
     ]
    },
    {
     "name": "stdout",
     "output_type": "stream",
     "text": [
      "[{'Execution_Asset': '2-5M44', 'Execution': '2-5M3P'}]\n",
      "Execution duration: 0.0H 4.0min 7.539167999999989sec\n"
     ]
    }
   ],
   "source": [
    "# EA.Execution_end(metadata_records[\"Execution\"])\n",
    "EA.Execution_end(Execution_RID=metadata_records[\"Execution\"], file_path=\"/Users/zhiweili/Desktop/eye_ai/Github/eye-ai-tools/src/ExecutionAsset\")"
   ]
  },
  {
   "cell_type": "code",
   "execution_count": null,
   "metadata": {},
   "outputs": [],
   "source": []
  }
 ],
 "metadata": {
  "kernelspec": {
   "display_name": "eye_ai",
   "language": "python",
   "name": "python3"
  },
  "language_info": {
   "codemirror_mode": {
    "name": "ipython",
    "version": 3
   },
   "file_extension": ".py",
   "mimetype": "text/x-python",
   "name": "python",
   "nbconvert_exporter": "python",
   "pygments_lexer": "ipython3",
   "version": "3.10.9"
  }
 },
 "nbformat": 4,
 "nbformat_minor": 2
}
